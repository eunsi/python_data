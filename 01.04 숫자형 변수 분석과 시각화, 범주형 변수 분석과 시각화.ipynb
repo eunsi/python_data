{
 "cells": [
  {
   "cell_type": "markdown",
   "id": "16641464",
   "metadata": {},
   "source": [
    "## 숫자형 변수 분석"
   ]
  },
  {
   "cell_type": "code",
   "execution_count": 1,
   "id": "2f0491f9",
   "metadata": {},
   "outputs": [],
   "source": [
    "import numpy as np"
   ]
  },
  {
   "cell_type": "code",
   "execution_count": 3,
   "id": "09e60e32",
   "metadata": {},
   "outputs": [
    {
     "name": "stdout",
     "output_type": "stream",
     "text": [
      "7.5\n"
     ]
    }
   ],
   "source": [
    "# 평균, 중위수, 최빈값 구하기\n",
    "\n",
    "a =[1,2,3,4,4,4,5,6,7,8,9,10,11,12,15,17,17,19]\n",
    "\n",
    "print(np.median(a))"
   ]
  },
  {
   "cell_type": "code",
   "execution_count": 4,
   "id": "f101e2bc",
   "metadata": {},
   "outputs": [
    {
     "data": {
      "text/plain": [
       "4"
      ]
     },
     "execution_count": 4,
     "metadata": {},
     "output_type": "execute_result"
    }
   ],
   "source": [
    "#최빈값 (mode)\n",
    "\n",
    "from scipy.stats import mode\n",
    "\n",
    "a =[1,2,3,4,4,4,5,6,7,8,9,10,11,12,15,17,17,19]\n",
    "\n",
    "value,cnt = np.unique(a, return_counts = True)\n",
    "index = np.argmax(cnt)\n",
    "value[index]"
   ]
  },
  {
   "cell_type": "code",
   "execution_count": 6,
   "id": "e0793ae7",
   "metadata": {},
   "outputs": [
    {
     "name": "stdout",
     "output_type": "stream",
     "text": [
      "[ 1.    4.    7.5  11.75 19.  ]\n"
     ]
    }
   ],
   "source": [
    "# 4분위수 구하기\n",
    "\n",
    "a =[1,2,3,4,4,4,5,6,7,8,9,10,11,12,15,17,17,19]\n",
    "\n",
    "print(np.percentile(a,[0,25,50,75,100]))"
   ]
  },
  {
   "cell_type": "code",
   "execution_count": null,
   "id": "335af470",
   "metadata": {},
   "outputs": [],
   "source": [
    "# 데이터 프레임 행,열 수 / 데이터개수와 타입 = info\n",
    "# 변수별 데이터 타입 dtypes\n",
    "# 기초통계량 분석 describe"
   ]
  },
  {
   "cell_type": "markdown",
   "id": "138427b3",
   "metadata": {},
   "source": [
    "## 숫자형 변수 시각화"
   ]
  },
  {
   "cell_type": "code",
   "execution_count": 7,
   "id": "eaa9575d",
   "metadata": {},
   "outputs": [],
   "source": [
    "import matplotlib.pyplot as plt"
   ]
  },
  {
   "cell_type": "markdown",
   "id": "97457b27",
   "metadata": {},
   "source": [
    "###  1) 히스토그램"
   ]
  },
  {
   "cell_type": "code",
   "execution_count": 11,
   "id": "19723654",
   "metadata": {},
   "outputs": [
    {
     "data": {
      "image/png": "[encoded data removed]",
      "text/plain": [
       "<Figure size 432x288 with 1 Axes>"
      ]
     },
     "metadata": {
      "needs_background": "light"
     },
     "output_type": "display_data"
    }
   ],
   "source": [
    "a = [1,2,3,4,4,4,5,6,7,8,9,10,11,15,17,19,20,25,30]\n",
    "plt.hist(a, bins=8, edgecolor='gray')\n",
    "\n",
    "\n",
    "plt.xlabel('Age') #x축 라벨\n",
    "plt.ylabel('Frequency') #y축 라벨\n",
    "\n",
    "plt.show()"
   ]
  },
  {
   "cell_type": "code",
   "execution_count": 13,
   "id": "07dc74df",
   "metadata": {},
   "outputs": [
    {
     "name": "stdout",
     "output_type": "stream",
     "text": [
      "[6. 4. 3. 1. 2. 1. 1. 1.]\n",
      "[ 1.     4.625  8.25  11.875 15.5   19.125 22.75  26.375 30.   ]\n"
     ]
    },
    {
     "data": {
      "image/png": "[encoded data removed]",
      "text/plain": [
       "<Figure size 432x288 with 1 Axes>"
      ]
     },
     "metadata": {
      "needs_background": "light"
     },
     "output_type": "display_data"
    }
   ],
   "source": [
    "a = [1,2,3,4,4,4,5,6,7,8,9,10,11,15,17,19,20,25,30]\n",
    "hist1 = plt.hist(a, bins=8, edgecolor='gray')\n",
    "\n",
    "#결과를 저장하면 구간과 빈도수 확인 가능\n",
    "\n",
    "print(hist1[0]) #빈도수\n",
    "print(hist1[1]) #구간값"
   ]
  },
  {
   "cell_type": "markdown",
   "id": "2f3d4576",
   "metadata": {},
   "source": [
    "* 히스토리는 튜플형태로 나옴"
   ]
  },
  {
   "cell_type": "markdown",
   "id": "e78ba465",
   "metadata": {},
   "source": [
    "* 히스토리 그래프의 단점\n",
    ">bin의 너비에 따라 다른 그래프가 될 수 있음"
   ]
  },
  {
   "cell_type": "markdown",
   "id": "b7a84353",
   "metadata": {},
   "source": [
    "### 2) 밀도함수 그래프"
   ]
  },
  {
   "cell_type": "code",
   "execution_count": 14,
   "id": "eefc2065",
   "metadata": {},
   "outputs": [],
   "source": [
    "import pandas as pd"
   ]
  },
  {
   "cell_type": "code",
   "execution_count": 16,
   "id": "318d89b0",
   "metadata": {
    "scrolled": true
   },
   "outputs": [
    {
     "data": {
      "image/png": "[encoded data removed]",
      "text/plain": [
       "<Figure size 432x288 with 1 Axes>"
      ]
     },
     "metadata": {
      "needs_background": "light"
     },
     "output_type": "display_data"
    }
   ],
   "source": [
    "age = [19,20,23,46,21,25,26,25,28,31,37,24,28,34,38,33,32,29,27,24]\n",
    "age = pd.Series(age)\n",
    "age.plot(kind='kde')\n",
    "plt.show()"
   ]
  },
  {
   "cell_type": "markdown",
   "id": "9193fe4f",
   "metadata": {},
   "source": [
    "### 3) boxplot"
   ]
  },
  {
   "cell_type": "code",
   "execution_count": 17,
   "id": "3390d18a",
   "metadata": {
    "scrolled": true
   },
   "outputs": [
    {
     "data": {
      "image/png": "[encoded data removed]",
      "text/plain": [
       "<Figure size 432x288 with 1 Axes>"
      ]
     },
     "metadata": {
      "needs_background": "light"
     },
     "output_type": "display_data"
    }
   ],
   "source": [
    "age = [19,20,23,46,21,25,26,25,28,31,37,24,28,34,38,33,32,29,27,24]\n",
    "\n",
    "plt.boxplot(age)\n",
    "plt.show()"
   ]
  },
  {
   "cell_type": "code",
   "execution_count": 18,
   "id": "cf0f92f3",
   "metadata": {},
   "outputs": [
    {
     "data": {
      "image/png": "[encoded data removed]",
      "text/plain": [
       "<Figure size 432x288 with 1 Axes>"
      ]
     },
     "metadata": {
      "needs_background": "light"
     },
     "output_type": "display_data"
    }
   ],
   "source": [
    "age = [19,20,23,46,21,25,26,25,28,31,37,24,28,34,38,33,32,29,27,24]\n",
    "\n",
    "plt.boxplot(age, vert = False)\n",
    "plt.show()"
   ]
  },
  {
   "cell_type": "code",
   "execution_count": 20,
   "id": "56d2d028",
   "metadata": {},
   "outputs": [
    {
     "name": "stdout",
     "output_type": "stream",
     "text": [
      "[24. 19.]\n",
      "[32.25 38.  ]\n"
     ]
    },
    {
     "data": {
      "image/png": "[encoded data removed]",
      "text/plain": [
       "<Figure size 432x288 with 1 Axes>"
      ]
     },
     "metadata": {
      "needs_background": "light"
     },
     "output_type": "display_data"
    }
   ],
   "source": [
    "# 수염값 구하기\n",
    "\n",
    "age = [19,20,23,46,21,25,26,25,28,31,37,24,28,34,38,33,32,29,27,24]\n",
    "box1 = plt.boxplot(age)\n",
    "\n",
    "print(box1['whiskers'][0].get_ydata())\n",
    "print(box1['whiskers'][1].get_ydata())"
   ]
  },
  {
   "cell_type": "markdown",
   "id": "775d4d63",
   "metadata": {},
   "source": [
    "* 박스 플롯은 딕셔너리로 값이 나옴\n",
    "* 양 끝 수염값 구하기 = get.ydata() 사용"
   ]
  },
  {
   "cell_type": "markdown",
   "id": "0f19d481",
   "metadata": {},
   "source": [
    "### 4) 바이올린 플롯"
   ]
  },
  {
   "cell_type": "code",
   "execution_count": 22,
   "id": "2980c1a6",
   "metadata": {},
   "outputs": [
    {
     "data": {
      "image/png": "[encoded data removed]",
      "text/plain": [
       "<Figure size 432x288 with 1 Axes>"
      ]
     },
     "metadata": {
      "needs_background": "light"
     },
     "output_type": "display_data"
    }
   ],
   "source": [
    "age = [19,20,23,46,21,25,26,25,28,31,37,24,28,34,38,33,32,29,27,24]\n",
    "age_mean = np.mean(age)\n",
    "\n",
    "plt.violinplot(age, vert= False, showmeans=True)\n",
    "# showmeans=True: 평균선 그리기\n",
    "plt.show()"
   ]
  },
  {
   "cell_type": "markdown",
   "id": "36bb764f",
   "metadata": {},
   "source": [
    "### 각 그래프 특징 정리\n",
    "\n",
    "* 히스토그램\n",
    "> bin의 개수를 조절하며, 숲과 나무를 살펴볼 수 있음\n",
    "* 밀도함수 그래프\n",
    ">연속된 분포를 볼 수 있음\n",
    "* 박스플롯\n",
    ">분포를 단순화하여 손쉽게 볼 수 있다. 이상치에 대한 기준 제시\n",
    "* 바이올린 플롯\n",
    "> boxplot과 densityplot 의 중간정도"
   ]
  },
  {
   "cell_type": "markdown",
   "id": "2c942b31",
   "metadata": {},
   "source": [
    "## 범주형 변수 분석"
   ]
  },
  {
   "cell_type": "markdown",
   "id": "9c0a1a99",
   "metadata": {},
   "source": [
    "### 범주형 변수 수치화"
   ]
  },
  {
   "cell_type": "code",
   "execution_count": 23,
   "id": "d3808f8e",
   "metadata": {},
   "outputs": [
    {
     "name": "stdout",
     "output_type": "stream",
     "text": [
      "F 5 0.5555555555555556\n",
      "M 4 0.4444444444444444\n"
     ]
    }
   ],
   "source": [
    "# 리스트를 사용한 통계\n",
    "\n",
    "gender = ['F','M','F','F','F','M','F','M','M']\n",
    "\n",
    "gender_f = gender.count('F')\n",
    "gender_m = gender.count('M')\n",
    "total_cnt = len(gender)\n",
    "\n",
    "print('F', gender_f, gender_f/total_cnt)\n",
    "print('M', gender_m, gender_m/total_cnt)"
   ]
  },
  {
   "cell_type": "code",
   "execution_count": 24,
   "id": "d5c68897",
   "metadata": {},
   "outputs": [
    {
     "name": "stdout",
     "output_type": "stream",
     "text": [
      "F    5\n",
      "M    4\n",
      "dtype: int64\n",
      "F    0.555556\n",
      "M    0.444444\n",
      "dtype: float64\n"
     ]
    }
   ],
   "source": [
    "# 판다스를 사용한 통계\n",
    "\n",
    "gender = ['F','M','F','F','F','M','F','M','M']\n",
    "gender = pd.Series(gender)\n",
    "\n",
    "print(gender.value_counts())\n",
    "print(gender.value_counts()/len(gender))"
   ]
  },
  {
   "cell_type": "markdown",
   "id": "e8784c49",
   "metadata": {},
   "source": [
    "## 범주형 변수 시각화"
   ]
  },
  {
   "cell_type": "markdown",
   "id": "88661f9e",
   "metadata": {},
   "source": [
    "###  1) bar chart"
   ]
  },
  {
   "cell_type": "code",
   "execution_count": 26,
   "id": "fdf77316",
   "metadata": {},
   "outputs": [
    {
     "name": "stdout",
     "output_type": "stream",
     "text": [
      "[5 4]\n",
      "Index(['F', 'M'], dtype='object')\n"
     ]
    },
    {
     "data": {
      "image/png": "[encoded data removed]",
      "text/plain": [
       "<Figure size 432x288 with 1 Axes>"
      ]
     },
     "metadata": {
      "needs_background": "light"
     },
     "output_type": "display_data"
    }
   ],
   "source": [
    "gender = ['F','M','F','F','F','M','F','M','M']\n",
    "gender = pd.Series(gender)\n",
    "\n",
    "cnt = gender.value_counts() #범주 이름이 필요하므로 집계작업 꼭 하기\n",
    "print(cnt.values) #범주이름\n",
    "print(cnt.index) #값\n",
    "\n",
    "plt.bar(cnt.index , cnt.values)\n",
    "plt.show()"
   ]
  },
  {
   "cell_type": "markdown",
   "id": "5431c0cd",
   "metadata": {},
   "source": [
    "### 2) pie chart"
   ]
  },
  {
   "cell_type": "code",
   "execution_count": 27,
   "id": "5f530971",
   "metadata": {},
   "outputs": [
    {
     "data": {
      "image/png": "[encoded data removed]",
      "text/plain": [
       "<Figure size 432x288 with 1 Axes>"
      ]
     },
     "metadata": {},
     "output_type": "display_data"
    }
   ],
   "source": [
    "# plt.pie(값, labels= 범주이름, autopct='%.2f%%')\n",
    "\n",
    "gender = ['F','M','F','F','F','M','F','M','M']\n",
    "gender = pd.Series(gender)\n",
    "\n",
    "cnt= gender.value_counts()\n",
    "\n",
    "plt.pie(cnt.values, labels=cnt.index , autopct='%.2f%%')\n",
    "plt.show()"
   ]
  },
  {
   "cell_type": "markdown",
   "id": "881b828f",
   "metadata": {},
   "source": [
    "* bar chart\n",
    "> bar chart는 양을 볼 때 주로 사용됨\n",
    "\n",
    "* pie chart\n",
    "> pie chart는 주로 비율을 볼 때 사용됨"
   ]
  },
  {
   "cell_type": "markdown",
   "id": "0b70f57f",
   "metadata": {},
   "source": [
    "## 단변량 분석"
   ]
  },
  {
   "cell_type": "markdown",
   "id": "016f96c0",
   "metadata": {},
   "source": [
    "### 이상치와 결측치"
   ]
  },
  {
   "cell_type": "code",
   "execution_count": null,
   "id": "5f8199b8",
   "metadata": {},
   "outputs": [],
   "source": [
    "#결측치 확인\n",
    "df.isna().sum()\n",
    "df.isnull().sum()"
   ]
  },
  {
   "cell_type": "code",
   "execution_count": null,
   "id": "a5f5d811",
   "metadata": {},
   "outputs": [],
   "source": [
    "#결측치 제외하고 그래프 그리기\n",
    ".notnull()"
   ]
  }
 ],
 "metadata": {
  "kernelspec": {
   "display_name": "Python 3",
   "language": "python",
   "name": "python3"
  },
  "language_info": {
   "codemirror_mode": {
    "name": "ipython",
    "version": 3
   },
   "file_extension": ".py",
   "mimetype": "text/x-python",
   "name": "python",
   "nbconvert_exporter": "python",
   "pygments_lexer": "ipython3",
   "version": "3.8.8"
  }
 },
 "nbformat": 4,
 "nbformat_minor": 5
}
