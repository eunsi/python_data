{
 "cells": [
  {
   "cell_type": "markdown",
   "id": "cb5b3b7c",
   "metadata": {},
   "source": [
    "## 열 이름 변경\n",
    "\n",
    "**일부 열 이름 변경**\n",
    "rename() 메소드 사용 / inplace=True 값 필수!\n",
    "\n",
    "cut() / rename() / map() "
   ]
  },
  {
   "cell_type": "code",
   "execution_count": 47,
   "id": "7809333d",
   "metadata": {},
   "outputs": [],
   "source": [
    "import pandas as pd\n",
    "\n",
    "path = 'https://bit.ly/Tips2File'\n",
    "tip = pd.read_csv(path)"
   ]
  },
  {
   "cell_type": "code",
   "execution_count": 48,
   "id": "5588a100",
   "metadata": {},
   "outputs": [
    {
     "name": "stdout",
     "output_type": "stream",
     "text": [
      "   total_bill_amount   tip male_female smoke_yes_no week_name dinner_lunch  \\\n",
      "0              16.99  1.01      Female           No       Sun       Dinner   \n",
      "1              10.34  1.66        Male           No       Sun       Dinner   \n",
      "2              21.01  3.50        Male           No       Sun       Dinner   \n",
      "3              23.68  3.31        Male           No       Sun       Dinner   \n",
      "4              24.59  3.61      Female           No       Sun       Dinner   \n",
      "\n",
      "   size  \n",
      "0     2  \n",
      "1     3  \n",
      "2     3  \n",
      "3     2  \n",
      "4     4  \n"
     ]
    }
   ],
   "source": [
    "print(tip.head())"
   ]
  },
  {
   "cell_type": "markdown",
   "id": "f809187f",
   "metadata": {},
   "source": [
    "**일부 열 이름 변경**"
   ]
  },
  {
   "cell_type": "code",
   "execution_count": 25,
   "id": "76927a6b",
   "metadata": {},
   "outputs": [
    {
     "name": "stdout",
     "output_type": "stream",
     "text": [
      "   total_bill   tip     sex smoke_yes_no  day dinner_lunch  size\n",
      "0       16.99  1.01  Female           No  Sun       Dinner     2\n",
      "1       10.34  1.66    Male           No  Sun       Dinner     3\n",
      "2       21.01  3.50    Male           No  Sun       Dinner     3\n",
      "3       23.68  3.31    Male           No  Sun       Dinner     2\n",
      "4       24.59  3.61  Female           No  Sun       Dinner     4\n"
     ]
    }
   ],
   "source": [
    "cols = {'total_bill_amount':'total_bill', 'male_female':'sex', 'week_name':'day'}\n",
    "#변수를 설정해주는게 코드를 짜기 좋다.\n",
    "tip.rename(columns = cols , inplace = True)\n",
    "print(tip.head())"
   ]
  },
  {
   "cell_type": "markdown",
   "id": "e3fe6e9d",
   "metadata": {},
   "source": [
    "**모든 열 이름 변경**"
   ]
  },
  {
   "cell_type": "code",
   "execution_count": 8,
   "id": "c762ea37",
   "metadata": {},
   "outputs": [
    {
     "name": "stdout",
     "output_type": "stream",
     "text": [
      "   total_bill   tip     sex smoker  day    time  size\n",
      "0       16.99  1.01  Female     No  Sun  Dinner     2\n",
      "1       10.34  1.66    Male     No  Sun  Dinner     3\n",
      "2       21.01  3.50    Male     No  Sun  Dinner     3\n",
      "3       23.68  3.31    Male     No  Sun  Dinner     2\n",
      "4       24.59  3.61  Female     No  Sun  Dinner     4\n"
     ]
    }
   ],
   "source": [
    "# 모든 열 이름을 변경 하는 경우 .columns 속성 사용\n",
    "tip.columns = ['total_bill','tip','sex','smoker','day','time','size']\n",
    "print(tip.head())"
   ]
  },
  {
   "cell_type": "markdown",
   "id": "785c8cb5",
   "metadata": {},
   "source": [
    "## 열 추가와 열 삭제"
   ]
  },
  {
   "cell_type": "markdown",
   "id": "b8d762a7",
   "metadata": {},
   "source": [
    "**열추가**"
   ]
  },
  {
   "cell_type": "code",
   "execution_count": 30,
   "id": "d758cd2e",
   "metadata": {},
   "outputs": [
    {
     "name": "stdout",
     "output_type": "stream",
     "text": [
      "   total_bill   tip     sex smoke_yes_no  day dinner_lunch  size     div_tb  \\\n",
      "0       16.99  1.01  Female           No  Sun       Dinner     2   8.495000   \n",
      "1       10.34  1.66    Male           No  Sun       Dinner     3   3.446667   \n",
      "2       21.01  3.50    Male           No  Sun       Dinner     3   7.003333   \n",
      "3       23.68  3.31    Male           No  Sun       Dinner     2  11.840000   \n",
      "4       24.59  3.61  Female           No  Sun       Dinner     4   6.147500   \n",
      "\n",
      "   total_amt  \n",
      "0      18.00  \n",
      "1      12.00  \n",
      "2      24.51  \n",
      "3      26.99  \n",
      "4      28.20  \n"
     ]
    }
   ],
   "source": [
    "# final_amt 열 추가 하는 경우\n",
    "tip['total_amt'] = tip['total_bill'] + tip['tip']\n",
    "tip['div_tb'] = tip['total_bill'] / tip['size']\n",
    "#위 경우를 사용하여 데이터 순서 변경가능\n",
    "tip = tip[['total_bill', 'div_tb' , 'tip', 'sex', 'smoker', 'day', 'time', 'size', 'total_bill']]\n",
    "print(tip.head())\n"
   ]
  },
  {
   "cell_type": "markdown",
   "id": "706cc08f",
   "metadata": {},
   "source": [
    "**열 삭제**\n",
    "\n",
    "drop() = 메소드를 사용해서 열 삭제\n",
    "\n",
    "axis = 0 행삭제 (행은 0이 기본임)\n",
    "\n",
    "axis = 1 열삭제\n",
    "\n",
    "inplace = True"
   ]
  },
  {
   "cell_type": "code",
   "execution_count": 49,
   "id": "6dde5dde",
   "metadata": {},
   "outputs": [
    {
     "ename": "KeyError",
     "evalue": "\"['total_amt'] not found in axis\"",
     "output_type": "error",
     "traceback": [
      "\u001b[1;31m---------------------------------------------------------------------------\u001b[0m",
      "\u001b[1;31mKeyError\u001b[0m                                  Traceback (most recent call last)",
      "\u001b[1;32m<ipython-input-49-705fdfd4c42d>\u001b[0m in \u001b[0;36m<module>\u001b[1;34m\u001b[0m\n\u001b[0;32m      2\u001b[0m \u001b[1;33m\u001b[0m\u001b[0m\n\u001b[0;32m      3\u001b[0m \u001b[0mx_cols\u001b[0m \u001b[1;33m=\u001b[0m \u001b[1;33m[\u001b[0m\u001b[1;34m'total_amt'\u001b[0m\u001b[1;33m]\u001b[0m\u001b[1;33m\u001b[0m\u001b[1;33m\u001b[0m\u001b[0m\n\u001b[1;32m----> 4\u001b[1;33m \u001b[0mtip\u001b[0m\u001b[1;33m.\u001b[0m\u001b[0mdrop\u001b[0m\u001b[1;33m(\u001b[0m\u001b[0mx_cols\u001b[0m \u001b[1;33m,\u001b[0m \u001b[0maxis\u001b[0m\u001b[1;33m=\u001b[0m\u001b[1;36m1\u001b[0m\u001b[1;33m,\u001b[0m \u001b[0minplace\u001b[0m\u001b[1;33m=\u001b[0m \u001b[1;32mTrue\u001b[0m\u001b[1;33m)\u001b[0m\u001b[1;33m\u001b[0m\u001b[1;33m\u001b[0m\u001b[0m\n\u001b[0m\u001b[0;32m      5\u001b[0m \u001b[0mprint\u001b[0m\u001b[1;33m(\u001b[0m\u001b[0mtip\u001b[0m\u001b[1;33m.\u001b[0m\u001b[0mhead\u001b[0m\u001b[1;33m(\u001b[0m\u001b[1;33m)\u001b[0m\u001b[1;33m)\u001b[0m\u001b[1;33m\u001b[0m\u001b[1;33m\u001b[0m\u001b[0m\n",
      "\u001b[1;32m~\\anaconda3\\lib\\site-packages\\pandas\\core\\frame.py\u001b[0m in \u001b[0;36mdrop\u001b[1;34m(self, labels, axis, index, columns, level, inplace, errors)\u001b[0m\n\u001b[0;32m   4306\u001b[0m                 \u001b[0mweight\u001b[0m  \u001b[1;36m1.0\u001b[0m     \u001b[1;36m0.8\u001b[0m\u001b[1;33m\u001b[0m\u001b[1;33m\u001b[0m\u001b[0m\n\u001b[0;32m   4307\u001b[0m         \"\"\"\n\u001b[1;32m-> 4308\u001b[1;33m         return super().drop(\n\u001b[0m\u001b[0;32m   4309\u001b[0m             \u001b[0mlabels\u001b[0m\u001b[1;33m=\u001b[0m\u001b[0mlabels\u001b[0m\u001b[1;33m,\u001b[0m\u001b[1;33m\u001b[0m\u001b[1;33m\u001b[0m\u001b[0m\n\u001b[0;32m   4310\u001b[0m             \u001b[0maxis\u001b[0m\u001b[1;33m=\u001b[0m\u001b[0maxis\u001b[0m\u001b[1;33m,\u001b[0m\u001b[1;33m\u001b[0m\u001b[1;33m\u001b[0m\u001b[0m\n",
      "\u001b[1;32m~\\anaconda3\\lib\\site-packages\\pandas\\core\\generic.py\u001b[0m in \u001b[0;36mdrop\u001b[1;34m(self, labels, axis, index, columns, level, inplace, errors)\u001b[0m\n\u001b[0;32m   4151\u001b[0m         \u001b[1;32mfor\u001b[0m \u001b[0maxis\u001b[0m\u001b[1;33m,\u001b[0m \u001b[0mlabels\u001b[0m \u001b[1;32min\u001b[0m \u001b[0maxes\u001b[0m\u001b[1;33m.\u001b[0m\u001b[0mitems\u001b[0m\u001b[1;33m(\u001b[0m\u001b[1;33m)\u001b[0m\u001b[1;33m:\u001b[0m\u001b[1;33m\u001b[0m\u001b[1;33m\u001b[0m\u001b[0m\n\u001b[0;32m   4152\u001b[0m             \u001b[1;32mif\u001b[0m \u001b[0mlabels\u001b[0m \u001b[1;32mis\u001b[0m \u001b[1;32mnot\u001b[0m \u001b[1;32mNone\u001b[0m\u001b[1;33m:\u001b[0m\u001b[1;33m\u001b[0m\u001b[1;33m\u001b[0m\u001b[0m\n\u001b[1;32m-> 4153\u001b[1;33m                 \u001b[0mobj\u001b[0m \u001b[1;33m=\u001b[0m \u001b[0mobj\u001b[0m\u001b[1;33m.\u001b[0m\u001b[0m_drop_axis\u001b[0m\u001b[1;33m(\u001b[0m\u001b[0mlabels\u001b[0m\u001b[1;33m,\u001b[0m \u001b[0maxis\u001b[0m\u001b[1;33m,\u001b[0m \u001b[0mlevel\u001b[0m\u001b[1;33m=\u001b[0m\u001b[0mlevel\u001b[0m\u001b[1;33m,\u001b[0m \u001b[0merrors\u001b[0m\u001b[1;33m=\u001b[0m\u001b[0merrors\u001b[0m\u001b[1;33m)\u001b[0m\u001b[1;33m\u001b[0m\u001b[1;33m\u001b[0m\u001b[0m\n\u001b[0m\u001b[0;32m   4154\u001b[0m \u001b[1;33m\u001b[0m\u001b[0m\n\u001b[0;32m   4155\u001b[0m         \u001b[1;32mif\u001b[0m \u001b[0minplace\u001b[0m\u001b[1;33m:\u001b[0m\u001b[1;33m\u001b[0m\u001b[1;33m\u001b[0m\u001b[0m\n",
      "\u001b[1;32m~\\anaconda3\\lib\\site-packages\\pandas\\core\\generic.py\u001b[0m in \u001b[0;36m_drop_axis\u001b[1;34m(self, labels, axis, level, errors)\u001b[0m\n\u001b[0;32m   4186\u001b[0m                 \u001b[0mnew_axis\u001b[0m \u001b[1;33m=\u001b[0m \u001b[0maxis\u001b[0m\u001b[1;33m.\u001b[0m\u001b[0mdrop\u001b[0m\u001b[1;33m(\u001b[0m\u001b[0mlabels\u001b[0m\u001b[1;33m,\u001b[0m \u001b[0mlevel\u001b[0m\u001b[1;33m=\u001b[0m\u001b[0mlevel\u001b[0m\u001b[1;33m,\u001b[0m \u001b[0merrors\u001b[0m\u001b[1;33m=\u001b[0m\u001b[0merrors\u001b[0m\u001b[1;33m)\u001b[0m\u001b[1;33m\u001b[0m\u001b[1;33m\u001b[0m\u001b[0m\n\u001b[0;32m   4187\u001b[0m             \u001b[1;32melse\u001b[0m\u001b[1;33m:\u001b[0m\u001b[1;33m\u001b[0m\u001b[1;33m\u001b[0m\u001b[0m\n\u001b[1;32m-> 4188\u001b[1;33m                 \u001b[0mnew_axis\u001b[0m \u001b[1;33m=\u001b[0m \u001b[0maxis\u001b[0m\u001b[1;33m.\u001b[0m\u001b[0mdrop\u001b[0m\u001b[1;33m(\u001b[0m\u001b[0mlabels\u001b[0m\u001b[1;33m,\u001b[0m \u001b[0merrors\u001b[0m\u001b[1;33m=\u001b[0m\u001b[0merrors\u001b[0m\u001b[1;33m)\u001b[0m\u001b[1;33m\u001b[0m\u001b[1;33m\u001b[0m\u001b[0m\n\u001b[0m\u001b[0;32m   4189\u001b[0m             \u001b[0mresult\u001b[0m \u001b[1;33m=\u001b[0m \u001b[0mself\u001b[0m\u001b[1;33m.\u001b[0m\u001b[0mreindex\u001b[0m\u001b[1;33m(\u001b[0m\u001b[1;33m**\u001b[0m\u001b[1;33m{\u001b[0m\u001b[0maxis_name\u001b[0m\u001b[1;33m:\u001b[0m \u001b[0mnew_axis\u001b[0m\u001b[1;33m}\u001b[0m\u001b[1;33m)\u001b[0m\u001b[1;33m\u001b[0m\u001b[1;33m\u001b[0m\u001b[0m\n\u001b[0;32m   4190\u001b[0m \u001b[1;33m\u001b[0m\u001b[0m\n",
      "\u001b[1;32m~\\anaconda3\\lib\\site-packages\\pandas\\core\\indexes\\base.py\u001b[0m in \u001b[0;36mdrop\u001b[1;34m(self, labels, errors)\u001b[0m\n\u001b[0;32m   5589\u001b[0m         \u001b[1;32mif\u001b[0m \u001b[0mmask\u001b[0m\u001b[1;33m.\u001b[0m\u001b[0many\u001b[0m\u001b[1;33m(\u001b[0m\u001b[1;33m)\u001b[0m\u001b[1;33m:\u001b[0m\u001b[1;33m\u001b[0m\u001b[1;33m\u001b[0m\u001b[0m\n\u001b[0;32m   5590\u001b[0m             \u001b[1;32mif\u001b[0m \u001b[0merrors\u001b[0m \u001b[1;33m!=\u001b[0m \u001b[1;34m\"ignore\"\u001b[0m\u001b[1;33m:\u001b[0m\u001b[1;33m\u001b[0m\u001b[1;33m\u001b[0m\u001b[0m\n\u001b[1;32m-> 5591\u001b[1;33m                 \u001b[1;32mraise\u001b[0m \u001b[0mKeyError\u001b[0m\u001b[1;33m(\u001b[0m\u001b[1;34mf\"{labels[mask]} not found in axis\"\u001b[0m\u001b[1;33m)\u001b[0m\u001b[1;33m\u001b[0m\u001b[1;33m\u001b[0m\u001b[0m\n\u001b[0m\u001b[0;32m   5592\u001b[0m             \u001b[0mindexer\u001b[0m \u001b[1;33m=\u001b[0m \u001b[0mindexer\u001b[0m\u001b[1;33m[\u001b[0m\u001b[1;33m~\u001b[0m\u001b[0mmask\u001b[0m\u001b[1;33m]\u001b[0m\u001b[1;33m\u001b[0m\u001b[1;33m\u001b[0m\u001b[0m\n\u001b[0;32m   5593\u001b[0m         \u001b[1;32mreturn\u001b[0m \u001b[0mself\u001b[0m\u001b[1;33m.\u001b[0m\u001b[0mdelete\u001b[0m\u001b[1;33m(\u001b[0m\u001b[0mindexer\u001b[0m\u001b[1;33m)\u001b[0m\u001b[1;33m\u001b[0m\u001b[1;33m\u001b[0m\u001b[0m\n",
      "\u001b[1;31mKeyError\u001b[0m: \"['total_amt'] not found in axis\""
     ]
    }
   ],
   "source": [
    "# 열 삭제도 열 추가와 마찬가지로 변수를 선언해주고 넣는게 코드짜기가 쉽고 편리하다.\n",
    "\n",
    "x_cols = ['total_amt']\n",
    "tip.drop(x_cols , axis=1, inplace= True)\n",
    "print(tip.head())"
   ]
  },
  {
   "cell_type": "markdown",
   "id": "fe4b2578",
   "metadata": {},
   "source": [
    "## map 기능\n",
    "\n",
    "편리한 기능이므로 알아두면 좋다.\n",
    "\n",
    "범주형 값을 다른 값으로 쉽게 변경 가능"
   ]
  },
  {
   "cell_type": "code",
   "execution_count": 52,
   "id": "ab347723",
   "metadata": {},
   "outputs": [
    {
     "name": "stdout",
     "output_type": "stream",
     "text": [
      "   total_bill_amount   tip male_female smoke_yes_no week_name  dinner_lunch  \\\n",
      "0              16.99  1.01      Female           No       Sun           NaN   \n",
      "1              10.34  1.66        Male           No       Sun           NaN   \n",
      "2              21.01  3.50        Male           No       Sun           NaN   \n",
      "3              23.68  3.31        Male           No       Sun           NaN   \n",
      "4              24.59  3.61      Female           No       Sun           NaN   \n",
      "\n",
      "   size  \n",
      "0     2  \n",
      "1     3  \n",
      "2     3  \n",
      "3     2  \n",
      "4     4  \n"
     ]
    }
   ],
   "source": [
    "tip['dinner_lunch'] = tip['dinner_lunch'].map({'Dinner': 1, 'Lunch': 0})\n",
    "print(tip.head())"
   ]
  },
  {
   "cell_type": "markdown",
   "id": "8e652aa3",
   "metadata": {},
   "source": [
    "## cut 함수\n",
    "\n",
    "**크기를 기준으로 범위를 나누어 등급을 지정 할 때 cut() 함수 사용**"
   ]
  },
  {
   "cell_type": "code",
   "execution_count": 53,
   "id": "d0f5a2c3",
   "metadata": {},
   "outputs": [
    {
     "name": "stdout",
     "output_type": "stream",
     "text": [
      "   total_bill_amount   tip male_female smoke_yes_no week_name  dinner_lunch  \\\n",
      "0              16.99  1.01      Female           No       Sun           NaN   \n",
      "1              10.34  1.66        Male           No       Sun           NaN   \n",
      "2              21.01  3.50        Male           No       Sun           NaN   \n",
      "3              23.68  3.31        Male           No       Sun           NaN   \n",
      "4              24.59  3.61      Female           No       Sun           NaN   \n",
      "\n",
      "   size tip_grp  \n",
      "0     2       e  \n",
      "1     3       e  \n",
      "2     3       d  \n",
      "3     2       d  \n",
      "4     4       d  \n"
     ]
    }
   ],
   "source": [
    "tip['tip_grp'] = pd.cut(tip['tip'], 5 , labels=list('edcba'))\n",
    "print(tip.head())"
   ]
  },
  {
   "cell_type": "code",
   "execution_count": 55,
   "id": "e2b8448c",
   "metadata": {},
   "outputs": [
    {
     "name": "stdout",
     "output_type": "stream",
     "text": [
      "bronze      78\n",
      "platinum    75\n",
      "gold        47\n",
      "silver      44\n",
      "Name: tip_grp, dtype: int64\n"
     ]
    }
   ],
   "source": [
    "# numpy 활용\n",
    "\n",
    "import numpy as np\n",
    "\n",
    "\n",
    "bin = [-np.inf, 2.0, 2.9, 3.45, np.inf]\n",
    "label = ['bronze', 'silver', 'gold', 'platinum']\n",
    "tip['tip_grp'] = pd.cut(tip['tip'], bins=bin, labels = label)\n",
    "\n",
    "print(tip['tip_grp'].value_counts())"
   ]
  },
  {
   "cell_type": "markdown",
   "id": "3c367d32",
   "metadata": {},
   "source": [
    "##  결측치 처리"
   ]
  },
  {
   "cell_type": "markdown",
   "id": "5d0a7f80",
   "metadata": {},
   "source": [
    "info() / isnull() / notnull() / dropna() / fillna() / interpolate() / ffill,bfill / get_dummise() / concat() / merge() 메소드!"
   ]
  },
  {
   "cell_type": "code",
   "execution_count": 57,
   "id": "534d384a",
   "metadata": {},
   "outputs": [],
   "source": [
    "import pandas as pd\n",
    "\n",
    "path ='https://bit.ly/AirQFile'\n",
    "air = pd.read_csv(path)"
   ]
  },
  {
   "cell_type": "code",
   "execution_count": 58,
   "id": "3c2bcc4b",
   "metadata": {},
   "outputs": [
    {
     "name": "stdout",
     "output_type": "stream",
     "text": [
      "   Ozone  Solar.R  Wind  Temp  Month  Day\n",
      "0   41.0    190.0   7.4    67      5    1\n",
      "1   36.0    118.0   8.0    72      5    2\n",
      "2   12.0    149.0  12.6    74      5    3\n",
      "3   18.0    313.0  11.5    62      5    4\n",
      "4    NaN      NaN  14.3    56      5    5\n"
     ]
    }
   ],
   "source": [
    "print(air.head())"
   ]
  },
  {
   "cell_type": "code",
   "execution_count": 63,
   "id": "21f53f7c",
   "metadata": {},
   "outputs": [
    {
     "name": "stdout",
     "output_type": "stream",
     "text": [
      "<class 'pandas.core.frame.DataFrame'>\n",
      "Int64Index: 111 entries, 0 to 152\n",
      "Data columns (total 6 columns):\n",
      " #   Column   Non-Null Count  Dtype  \n",
      "---  ------   --------------  -----  \n",
      " 0   Ozone    111 non-null    float64\n",
      " 1   Solar.R  111 non-null    float64\n",
      " 2   Wind     111 non-null    float64\n",
      " 3   Temp     111 non-null    int64  \n",
      " 4   Month    111 non-null    int64  \n",
      " 5   Day      111 non-null    int64  \n",
      "dtypes: float64(3), int64(3)\n",
      "memory usage: 6.1 KB\n",
      "None\n"
     ]
    }
   ],
   "source": [
    "print(air.info())"
   ]
  },
  {
   "cell_type": "code",
   "execution_count": 64,
   "id": "289ec80d",
   "metadata": {},
   "outputs": [
    {
     "name": "stdout",
     "output_type": "stream",
     "text": [
      "Ozone      0\n",
      "Solar.R    0\n",
      "Wind       0\n",
      "Temp       0\n",
      "Month      0\n",
      "Day        0\n",
      "dtype: int64\n"
     ]
    }
   ],
   "source": [
    "print(air.isnull().sum())"
   ]
  },
  {
   "cell_type": "markdown",
   "id": "f6c788a6",
   "metadata": {},
   "source": [
    "**결측치 제거**\n",
    "\n",
    "dropna() 메소드 사용\n",
    "\n",
    "axis = 0 행제거\n",
    "\n",
    "axis = 1 열제거"
   ]
  },
  {
   "cell_type": "code",
   "execution_count": 65,
   "id": "1b56c57a",
   "metadata": {},
   "outputs": [],
   "source": [
    "# air.dropna(axis = 0 , inplace = True)\n",
    "# print(air.isna().sum())"
   ]
  },
  {
   "cell_type": "code",
   "execution_count": null,
   "id": "6bac0681",
   "metadata": {},
   "outputs": [],
   "source": []
  },
  {
   "cell_type": "code",
   "execution_count": null,
   "id": "d6d27cda",
   "metadata": {},
   "outputs": [],
   "source": []
  },
  {
   "cell_type": "code",
   "execution_count": null,
   "id": "984c8fd0",
   "metadata": {},
   "outputs": [],
   "source": []
  },
  {
   "cell_type": "code",
   "execution_count": null,
   "id": "fd567b0e",
   "metadata": {},
   "outputs": [],
   "source": []
  },
  {
   "cell_type": "code",
   "execution_count": null,
   "id": "b0b856ac",
   "metadata": {},
   "outputs": [],
   "source": []
  },
  {
   "cell_type": "code",
   "execution_count": null,
   "id": "0da56150",
   "metadata": {},
   "outputs": [],
   "source": []
  }
 ],
 "metadata": {
  "kernelspec": {
   "display_name": "Python 3",
   "language": "python",
   "name": "python3"
  },
  "language_info": {
   "codemirror_mode": {
    "name": "ipython",
    "version": 3
   },
   "file_extension": ".py",
   "mimetype": "text/x-python",
   "name": "python",
   "nbconvert_exporter": "python",
   "pygments_lexer": "ipython3",
   "version": "3.8.8"
  }
 },
 "nbformat": 4,
 "nbformat_minor": 5
}
