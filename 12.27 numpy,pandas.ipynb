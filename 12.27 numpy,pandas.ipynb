{
 "cells": [
  {
   "cell_type": "markdown",
   "id": "a32dc741",
   "metadata": {},
   "source": [
    "## Numpy"
   ]
  },
  {
   "cell_type": "code",
   "execution_count": 1,
   "id": "4c20416c",
   "metadata": {},
   "outputs": [],
   "source": [
    "#라이브러리 불러오기\n",
    "import numpy as np"
   ]
  },
  {
   "cell_type": "code",
   "execution_count": 3,
   "id": "cc6b2745",
   "metadata": {},
   "outputs": [],
   "source": [
    "a = [1,2,3,4,5,6,7,8,9]\n",
    "a = a*2"
   ]
  },
  {
   "cell_type": "code",
   "execution_count": 4,
   "id": "457f94b9",
   "metadata": {},
   "outputs": [
    {
     "name": "stdout",
     "output_type": "stream",
     "text": [
      "[1, 2, 3, 4, 5, 6, 7, 8, 9, 1, 2, 3, 4, 5, 6, 7, 8, 9]\n"
     ]
    }
   ],
   "source": [
    "print(a)"
   ]
  },
  {
   "cell_type": "code",
   "execution_count": 6,
   "id": "758b64c3",
   "metadata": {},
   "outputs": [
    {
     "name": "stdout",
     "output_type": "stream",
     "text": [
      "[1 2 3 4 5 6 7 8 9]\n",
      "[ 2  4  6  8 10 12 14 16 18]\n"
     ]
    }
   ],
   "source": [
    "a = np.array([1,2,3,4,5,6,7,8,9])\n",
    "print(a)\n",
    "\n",
    "a = a*2\n",
    "print(a)"
   ]
  },
  {
   "cell_type": "code",
   "execution_count": 7,
   "id": "72d86340",
   "metadata": {},
   "outputs": [
    {
     "name": "stdout",
     "output_type": "stream",
     "text": [
      "[1 2 3 4 5 6]\n"
     ]
    }
   ],
   "source": [
    "#1차원 배열\n",
    "a = np.array([1,2,3,4,5,6])\n",
    "print(a)"
   ]
  },
  {
   "cell_type": "code",
   "execution_count": 18,
   "id": "d3b6a62f",
   "metadata": {},
   "outputs": [
    {
     "name": "stdout",
     "output_type": "stream",
     "text": [
      "[[1 2 3 4 5]\n",
      " [1 2 3 5 7]]\n"
     ]
    }
   ],
   "source": [
    "#2차원 배열\n",
    "a = np.array([[1,2,3,4,5],[1,2,3,5,7]])\n",
    "print(a)"
   ]
  },
  {
   "cell_type": "code",
   "execution_count": 21,
   "id": "d5ea375b",
   "metadata": {},
   "outputs": [
    {
     "name": "stdout",
     "output_type": "stream",
     "text": [
      "[[[1 3 1]\n",
      "  [4 7 6]\n",
      "  [8 3 4]]\n",
      "\n",
      " [[6 2 4]\n",
      "  [8 1 5]\n",
      "  [3 5 9]]]\n"
     ]
    }
   ],
   "source": [
    "#3차원 배열\n",
    "a = np.array([[[1, 3, 1], [4, 7, 6],[8, 3, 4]],[[6, 2, 4], [8, 1, 5],[3, 5, 9]]])\n",
    "print(a)"
   ]
  },
  {
   "cell_type": "markdown",
   "id": "743d652d",
   "metadata": {},
   "source": [
    "## pandas"
   ]
  },
  {
   "cell_type": "code",
   "execution_count": 24,
   "id": "40c3b644",
   "metadata": {},
   "outputs": [],
   "source": [
    "#라이브러리 불러오기\n",
    "import pandas as pd"
   ]
  },
  {
   "cell_type": "markdown",
   "id": "d84c2eea",
   "metadata": {},
   "source": [
    "read_csv() 함수를 사용해서 데이터를 읽어온다.\n",
    "\n",
    "index_col: 인덱스 열 지정 (기본값 = False)"
   ]
  },
  {
   "cell_type": "code",
   "execution_count": 30,
   "id": "a8db12c2",
   "metadata": {},
   "outputs": [],
   "source": [
    "path = 'https://bit.ly/PopFile'\n",
    "pop = pd.read_csv(path)"
   ]
  },
  {
   "cell_type": "code",
   "execution_count": 28,
   "id": "b4809965",
   "metadata": {},
   "outputs": [
    {
     "name": "stdout",
     "output_type": "stream",
     "text": [
      "   year  household  k_male  k_female  f_male  f_female\n",
      "0  1981        NaN    4160      4191     NaN       NaN\n",
      "1  1982        NaN    4160      4191     NaN       NaN\n",
      "2  1983     2116.0    4160      4191     NaN       NaN\n",
      "3  1984     2246.0    4160      4191     NaN       NaN\n",
      "4  1985     2338.0    4788      4838     7.0       6.0\n",
      "5  1986     2428.0    4899      4888     7.0       5.0\n",
      "6  1987     2518.0    5000      4979     6.0       5.0\n",
      "7  1988     2658.0    5156      5120     5.0       5.0\n",
      "8  1989     2817.0    5305      5261     6.0       5.0\n",
      "9  1990     2820.0    5321      5282     5.0       4.0\n"
     ]
    }
   ],
   "source": [
    "#상위 10행만 확인\n",
    "print(pop.head(10))"
   ]
  },
  {
   "cell_type": "markdown",
   "id": "110f4296",
   "metadata": {},
   "source": [
    "head, tail 을 사용해서 상하위 데이터 확인 가능"
   ]
  },
  {
   "cell_type": "code",
   "execution_count": 36,
   "id": "b6d61373",
   "metadata": {},
   "outputs": [
    {
     "name": "stdout",
     "output_type": "stream",
     "text": [
      "   year  household  k_male  k_female  f_male  f_female\n",
      "0  1981        NaN    4160      4191     NaN       NaN\n",
      "1  1982        NaN    4160      4191     NaN       NaN\n",
      "2  1983     2116.0    4160      4191     NaN       NaN\n",
      "3  1984     2246.0    4160      4191     NaN       NaN\n",
      "4  1985     2338.0    4788      4838     7.0       6.0\n"
     ]
    }
   ],
   "source": [
    "#인덱스 이름 삭제\n",
    "pop.index.name = None\n",
    "print(pop.head())"
   ]
  },
  {
   "cell_type": "code",
   "execution_count": 32,
   "id": "6bf7dd86",
   "metadata": {},
   "outputs": [],
   "source": [
    "path = 'https://bit.ly/TipsFile'\n",
    "tip = pd.read_csv(path)"
   ]
  },
  {
   "cell_type": "code",
   "execution_count": 34,
   "id": "646741e7",
   "metadata": {},
   "outputs": [
    {
     "name": "stdout",
     "output_type": "stream",
     "text": [
      "   total_bill   tip     sex smoker  day    time  size\n",
      "0       16.99  1.01  Female     No  Sun  Dinner     2\n",
      "1       10.34  1.66    Male     No  Sun  Dinner     3\n",
      "2       21.01  3.50    Male     No  Sun  Dinner     3\n",
      "3       23.68  3.31    Male     No  Sun  Dinner     2\n",
      "4       24.59  3.61  Female     No  Sun  Dinner     4\n"
     ]
    }
   ],
   "source": [
    "print(tip.head())"
   ]
  },
  {
   "cell_type": "code",
   "execution_count": 38,
   "id": "d5e6a6cf",
   "metadata": {},
   "outputs": [
    {
     "name": "stdout",
     "output_type": "stream",
     "text": [
      "   total_bill   tip     sex smoker  day    time  size\n",
      "0       16.99  1.01  Female     No  Sun  Dinner     2\n",
      "1       10.34  1.66    Male     No  Sun  Dinner     3\n",
      "2       21.01  3.50    Male     No  Sun  Dinner     3\n",
      "3       23.68  3.31    Male     No  Sun  Dinner     2\n",
      "4       24.59  3.61  Female     No  Sun  Dinner     4\n"
     ]
    }
   ],
   "source": [
    "tip.index.name = None\n",
    "print(tip.head())"
   ]
  },
  {
   "cell_type": "markdown",
   "id": "a8ebc7e0",
   "metadata": {},
   "source": [
    "알아야 할 것들\n",
    "head() : 상위데이터\n",
    "\n",
    "tail() : 하위데이터\n",
    "\n",
    "shape:데이터 프레임 크기\n",
    "\n",
    "index:인덱스 정보 확인\n",
    "\n",
    "values : 값 정보 확인\n",
    "\n",
    "columns: 열 정보 확인\n",
    "\n",
    "dtypes:열 자료형 확인\n",
    "\n",
    "info():열에 대한 상세한 정보 확인\n",
    "\n",
    "describe():기초 통계 정보 확인"
   ]
  },
  {
   "cell_type": "code",
   "execution_count": 39,
   "id": "b352f69c",
   "metadata": {},
   "outputs": [
    {
     "name": "stdout",
     "output_type": "stream",
     "text": [
      "(244, 7)\n"
     ]
    }
   ],
   "source": [
    "print(tip.shape)"
   ]
  },
  {
   "cell_type": "code",
   "execution_count": 40,
   "id": "58625916",
   "metadata": {},
   "outputs": [
    {
     "name": "stdout",
     "output_type": "stream",
     "text": [
      "RangeIndex(start=0, stop=244, step=1)\n"
     ]
    }
   ],
   "source": [
    "print(tip.index)"
   ]
  },
  {
   "cell_type": "code",
   "execution_count": 41,
   "id": "3f3e8661",
   "metadata": {},
   "outputs": [
    {
     "name": "stdout",
     "output_type": "stream",
     "text": [
      "<class 'pandas.core.frame.DataFrame'>\n",
      "RangeIndex: 244 entries, 0 to 243\n",
      "Data columns (total 7 columns):\n",
      " #   Column      Non-Null Count  Dtype  \n",
      "---  ------      --------------  -----  \n",
      " 0   total_bill  244 non-null    float64\n",
      " 1   tip         244 non-null    float64\n",
      " 2   sex         244 non-null    object \n",
      " 3   smoker      244 non-null    object \n",
      " 4   day         244 non-null    object \n",
      " 5   time        244 non-null    object \n",
      " 6   size        244 non-null    int64  \n",
      "dtypes: float64(2), int64(1), object(4)\n",
      "memory usage: 13.5+ KB\n",
      "None\n"
     ]
    }
   ],
   "source": [
    "print(tip.info())"
   ]
  },
  {
   "cell_type": "code",
   "execution_count": 42,
   "id": "6f7017bb",
   "metadata": {},
   "outputs": [
    {
     "name": "stdout",
     "output_type": "stream",
     "text": [
      "total_bill    float64\n",
      "tip           float64\n",
      "sex            object\n",
      "smoker         object\n",
      "day            object\n",
      "time           object\n",
      "size            int64\n",
      "dtype: object\n"
     ]
    }
   ],
   "source": [
    "print(tip.dtypes)"
   ]
  },
  {
   "cell_type": "code",
   "execution_count": 45,
   "id": "0b185ea8",
   "metadata": {},
   "outputs": [
    {
     "name": "stdout",
     "output_type": "stream",
     "text": [
      "       total_bill         tip        size\n",
      "count  244.000000  244.000000  244.000000\n",
      "mean    19.785943    2.998279    2.569672\n",
      "std      8.902412    1.383638    0.951100\n",
      "min      3.070000    1.000000    1.000000\n",
      "25%     13.347500    2.000000    2.000000\n",
      "50%     17.795000    2.900000    2.000000\n",
      "75%     24.127500    3.562500    3.000000\n",
      "max     50.810000   10.000000    6.000000\n"
     ]
    }
   ],
   "source": [
    "print(tip.describe())"
   ]
  },
  {
   "cell_type": "markdown",
   "id": "eee91497",
   "metadata": {},
   "source": [
    "### 정렬해서 보기\n",
    "sort_values()  메소드 사용\n",
    "\n",
    "ascending 옵션을 사용하여 오름차순(True),내림차순(False) 설정 가능"
   ]
  },
  {
   "cell_type": "code",
   "execution_count": 49,
   "id": "8586cfcf",
   "metadata": {},
   "outputs": [
    {
     "name": "stdout",
     "output_type": "stream",
     "text": [
      "     total_bill    tip     sex smoker   day    time  size\n",
      "170       50.81  10.00    Male    Yes   Sat  Dinner     3\n",
      "212       48.33   9.00    Male     No   Sat  Dinner     4\n",
      "59        48.27   6.73    Male     No   Sat  Dinner     4\n",
      "156       48.17   5.00    Male     No   Sun  Dinner     6\n",
      "182       45.35   3.50    Male    Yes   Sun  Dinner     3\n",
      "..          ...    ...     ...    ...   ...     ...   ...\n",
      "149        7.51   2.00    Male     No  Thur   Lunch     2\n",
      "111        7.25   1.00  Female     No   Sat  Dinner     1\n",
      "172        7.25   5.15    Male    Yes   Sun  Dinner     2\n",
      "92         5.75   1.00  Female    Yes   Fri  Dinner     2\n",
      "67         3.07   1.00  Female    Yes   Sat  Dinner     1\n",
      "\n",
      "[244 rows x 7 columns]\n"
     ]
    }
   ],
   "source": [
    "print(tip.sort_values(by='total_bill',ascending=False))"
   ]
  },
  {
   "cell_type": "code",
   "execution_count": 67,
   "id": "7d8d27ed",
   "metadata": {},
   "outputs": [
    {
     "name": "stdout",
     "output_type": "stream",
     "text": [
      "     total_bill    tip     sex smoker   day    time  size\n",
      "170       50.81  10.00    Male    Yes   Sat  Dinner     3\n",
      "212       48.33   9.00    Male     No   Sat  Dinner     4\n",
      "59        48.27   6.73    Male     No   Sat  Dinner     4\n",
      "156       48.17   5.00    Male     No   Sun  Dinner     6\n",
      "182       45.35   3.50    Male    Yes   Sun  Dinner     3\n",
      "..          ...    ...     ...    ...   ...     ...   ...\n",
      "149        7.51   2.00    Male     No  Thur   Lunch     2\n",
      "172        7.25   5.15    Male    Yes   Sun  Dinner     2\n",
      "111        7.25   1.00  Female     No   Sat  Dinner     1\n",
      "92         5.75   1.00  Female    Yes   Fri  Dinner     2\n",
      "67         3.07   1.00  Female    Yes   Sat  Dinner     1\n",
      "\n",
      "[244 rows x 7 columns]\n"
     ]
    }
   ],
   "source": [
    "print(tip.sort_values(by=['total_bill','tip'],ascending=[False,False]))"
   ]
  },
  {
   "cell_type": "code",
   "execution_count": 68,
   "id": "041e605d",
   "metadata": {},
   "outputs": [
    {
     "name": "stdout",
     "output_type": "stream",
     "text": [
      "     total_bill   tip     sex smoker   day    time  size\n",
      "0         16.99  1.01  Female     No   Sun  Dinner     2\n",
      "1         10.34  1.66    Male     No   Sun  Dinner     3\n",
      "2         21.01  3.50    Male     No   Sun  Dinner     3\n",
      "3         23.68  3.31    Male     No   Sun  Dinner     2\n",
      "4         24.59  3.61  Female     No   Sun  Dinner     4\n",
      "..          ...   ...     ...    ...   ...     ...   ...\n",
      "239       29.03  5.92    Male     No   Sat  Dinner     3\n",
      "240       27.18  2.00  Female    Yes   Sat  Dinner     2\n",
      "241       22.67  2.00    Male    Yes   Sat  Dinner     2\n",
      "242       17.82  1.75    Male     No   Sat  Dinner     2\n",
      "243       18.78  3.00  Female     No  Thur  Dinner     2\n",
      "\n",
      "[244 rows x 7 columns]\n"
     ]
    }
   ],
   "source": [
    "#인덱스 초기화\n",
    "tip.reset_index(drop=True,inplace=True)\n",
    "print(tip)"
   ]
  },
  {
   "cell_type": "code",
   "execution_count": 69,
   "id": "e342d73a",
   "metadata": {},
   "outputs": [],
   "source": [
    "#data 시각화\n",
    "import matplotlib.pyplot as plt"
   ]
  },
  {
   "cell_type": "code",
   "execution_count": 72,
   "id": "fe341339",
   "metadata": {},
   "outputs": [
    {
     "data": {
      "image/png": "[encoded data removed]",
      "text/plain": [
       "<Figure size 432x288 with 1 Axes>"
      ]
     },
     "metadata": {
      "needs_background": "light"
     },
     "output_type": "display_data"
    },
    {
     "data": {
      "text/plain": [
       "<Figure size 432x288 with 0 Axes>"
      ]
     },
     "metadata": {},
     "output_type": "display_data"
    }
   ],
   "source": [
    "plt.bar(tip['day'],tip['tip'])\n",
    "plt.show()\n",
    "plt.savefig('test.png')"
   ]
  }
 ],
 "metadata": {
  "kernelspec": {
   "display_name": "Python 3",
   "language": "python",
   "name": "python3"
  },
  "language_info": {
   "codemirror_mode": {
    "name": "ipython",
    "version": 3
   },
   "file_extension": ".py",
   "mimetype": "text/x-python",
   "name": "python",
   "nbconvert_exporter": "python",
   "pygments_lexer": "ipython3",
   "version": "3.8.8"
  }
 },
 "nbformat": 4,
 "nbformat_minor": 5
}
