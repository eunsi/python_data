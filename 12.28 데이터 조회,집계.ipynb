{
 "cells": [
  {
   "cell_type": "code",
   "execution_count": 2,
   "id": "3fb462b0",
   "metadata": {},
   "outputs": [],
   "source": [
    "#라이브러리 불러오기\n",
    "import pandas as pd"
   ]
  },
  {
   "cell_type": "code",
   "execution_count": 3,
   "id": "9fbc13e7",
   "metadata": {},
   "outputs": [],
   "source": [
    "path = 'https://bit.ly/TipsFile'\n",
    "tip = pd.read_csv(path)"
   ]
  },
  {
   "cell_type": "code",
   "execution_count": 4,
   "id": "f930fadd",
   "metadata": {},
   "outputs": [
    {
     "name": "stdout",
     "output_type": "stream",
     "text": [
      "   total_bill   tip     sex smoker  day    time  size\n",
      "0       16.99  1.01  Female     No  Sun  Dinner     2\n",
      "1       10.34  1.66    Male     No  Sun  Dinner     3\n",
      "2       21.01  3.50    Male     No  Sun  Dinner     3\n",
      "3       23.68  3.31    Male     No  Sun  Dinner     2\n",
      "4       24.59  3.61  Female     No  Sun  Dinner     4\n"
     ]
    }
   ],
   "source": [
    "#상위 데이터 확인\n",
    "print(tip.head())"
   ]
  },
  {
   "cell_type": "code",
   "execution_count": 7,
   "id": "ef2ad09d",
   "metadata": {},
   "outputs": [
    {
     "name": "stdout",
     "output_type": "stream",
     "text": [
      "0      16.99\n",
      "1      10.34\n",
      "2      21.01\n",
      "3      23.68\n",
      "4      24.59\n",
      "       ...  \n",
      "239    29.03\n",
      "240    27.18\n",
      "241    22.67\n",
      "242    17.82\n",
      "243    18.78\n",
      "Name: total_bill, Length: 244, dtype: float64\n"
     ]
    }
   ],
   "source": [
    "#total_bill 열 확인\n",
    "print(tip['total_bill'])"
   ]
  },
  {
   "cell_type": "code",
   "execution_count": 8,
   "id": "fe2d5217",
   "metadata": {},
   "outputs": [
    {
     "name": "stdout",
     "output_type": "stream",
     "text": [
      "      tip   day    time\n",
      "0    1.01   Sun  Dinner\n",
      "1    1.66   Sun  Dinner\n",
      "2    3.50   Sun  Dinner\n",
      "3    3.31   Sun  Dinner\n",
      "4    3.61   Sun  Dinner\n",
      "..    ...   ...     ...\n",
      "239  5.92   Sat  Dinner\n",
      "240  2.00   Sat  Dinner\n",
      "241  2.00   Sat  Dinner\n",
      "242  1.75   Sat  Dinner\n",
      "243  3.00  Thur  Dinner\n",
      "\n",
      "[244 rows x 3 columns]\n"
     ]
    }
   ],
   "source": [
    "# tip,day,time 열만 조회\n",
    "print(tip[['tip' , 'day' , 'time']])"
   ]
  },
  {
   "cell_type": "code",
   "execution_count": 9,
   "id": "8e9635f1",
   "metadata": {},
   "outputs": [
    {
     "name": "stdout",
     "output_type": "stream",
     "text": [
      "       tip   day    time\n",
      "170  10.00   Sat  Dinner\n",
      "212   9.00   Sat  Dinner\n",
      "23    7.58   Sat  Dinner\n",
      "59    6.73   Sat  Dinner\n",
      "141   6.70  Thur   Lunch\n",
      "..     ...   ...     ...\n",
      "0     1.01   Sun  Dinner\n",
      "236   1.00   Sat  Dinner\n",
      "111   1.00   Sat  Dinner\n",
      "67    1.00   Sat  Dinner\n",
      "92    1.00   Fri  Dinner\n",
      "\n",
      "[244 rows x 3 columns]\n"
     ]
    }
   ],
   "source": [
    "#tip.day,time 열만 tip 열 기준으로 내림차순 정렬해서 조회\n",
    "tip1 = tip[['tip','day','time']]\n",
    "tip2 = tip1.sort_values(by='tip',ascending = False)\n",
    "print(tip2)"
   ]
  },
  {
   "cell_type": "markdown",
   "id": "179e5d27",
   "metadata": {},
   "source": [
    "## 조건으로 조회"
   ]
  },
  {
   "cell_type": "markdown",
   "id": "dc6beba4",
   "metadata": {},
   "source": [
    "df.loc[조건] 형태로 조건을 지정해 조건에 만족하는 데이터만 조회할 수 있다.\n",
    "우선 조건이 제대로 판단되는지 확인 후 조건을 대괄호 안에 넣으면 된다!"
   ]
  },
  {
   "cell_type": "markdown",
   "id": "8c16bc21",
   "metadata": {},
   "source": [
    "### 단일 조건 조회"
   ]
  },
  {
   "cell_type": "code",
   "execution_count": 10,
   "id": "abdbff52",
   "metadata": {},
   "outputs": [
    {
     "name": "stdout",
     "output_type": "stream",
     "text": [
      "     total_bill    tip     sex smoker   day    time  size\n",
      "23        39.42   7.58    Male     No   Sat  Dinner     4\n",
      "59        48.27   6.73    Male     No   Sat  Dinner     4\n",
      "141       34.30   6.70    Male     No  Thur   Lunch     6\n",
      "170       50.81  10.00    Male    Yes   Sat  Dinner     3\n",
      "183       23.17   6.50    Male    Yes   Sun  Dinner     4\n",
      "212       48.33   9.00    Male     No   Sat  Dinner     4\n",
      "214       28.17   6.50  Female    Yes   Sat  Dinner     3\n"
     ]
    }
   ],
   "source": [
    "print(tip.loc[tip['tip']>6.0])"
   ]
  },
  {
   "cell_type": "markdown",
   "id": "3e21f53e",
   "metadata": {},
   "source": [
    " ### 여러조건 조회 or,and  대신 | & 사용"
   ]
  },
  {
   "cell_type": "code",
   "execution_count": 11,
   "id": "b3939120",
   "metadata": {},
   "outputs": [
    {
     "name": "stdout",
     "output_type": "stream",
     "text": [
      "     total_bill    tip     sex smoker   day    time  size\n",
      "23        39.42   7.58    Male     No   Sat  Dinner     4\n",
      "59        48.27   6.73    Male     No   Sat  Dinner     4\n",
      "141       34.30   6.70    Male     No  Thur   Lunch     6\n",
      "170       50.81  10.00    Male    Yes   Sat  Dinner     3\n",
      "183       23.17   6.50    Male    Yes   Sun  Dinner     4\n",
      "212       48.33   9.00    Male     No   Sat  Dinner     4\n",
      "214       28.17   6.50  Female    Yes   Sat  Dinner     3\n"
     ]
    }
   ],
   "source": [
    "print(tip.loc [(tip['tip'] > 6.0) | (tip['day'] ==' Sat')])"
   ]
  },
  {
   "cell_type": "markdown",
   "id": "46219bcf",
   "metadata": {},
   "source": [
    "## 데이터 집계"
   ]
  },
  {
   "cell_type": "code",
   "execution_count": 14,
   "id": "b412cc68",
   "metadata": {},
   "outputs": [
    {
     "name": "stdout",
     "output_type": "stream",
     "text": [
      "4827.77\n"
     ]
    }
   ],
   "source": [
    "#total_bill 합계\n",
    "print(tip['total_bill'].sum())"
   ]
  },
  {
   "cell_type": "code",
   "execution_count": 16,
   "id": "dc62e458",
   "metadata": {},
   "outputs": [
    {
     "name": "stdout",
     "output_type": "stream",
     "text": [
      "total_bill    4827.77\n",
      "tip            731.58\n",
      "dtype: float64\n"
     ]
    }
   ],
   "source": [
    "#total_bill, tip 각각의 합계\n",
    "print(tip[['total_bill','tip']].sum())"
   ]
  },
  {
   "cell_type": "markdown",
   "id": "c94870a7",
   "metadata": {},
   "source": [
    "집계하기\n",
    "\n",
    "as_index= True 설정하면 집계 기준이 되는 열이 인덱스 열이 된다.\n",
    "\n",
    "as_index= False 로 설정하면 행 번호를 기반으로 한 정수 값이 인덱스로 설정된다."
   ]
  },
  {
   "cell_type": "code",
   "execution_count": 17,
   "id": "c16fe5c9",
   "metadata": {},
   "outputs": [
    {
     "name": "stdout",
     "output_type": "stream",
     "text": [
      "day\n",
      "Fri      51.96\n",
      "Sat     260.40\n",
      "Sun     247.39\n",
      "Thur    171.83\n",
      "Name: tip, dtype: float64\n"
     ]
    }
   ],
   "source": [
    "#day 별 tip 합계\n",
    "print(tip.groupby('day',as_index=True)['tip'].sum())"
   ]
  },
  {
   "cell_type": "code",
   "execution_count": 18,
   "id": "1ad90bf5",
   "metadata": {},
   "outputs": [
    {
     "name": "stdout",
     "output_type": "stream",
     "text": [
      "         tip\n",
      "day         \n",
      "Fri    51.96\n",
      "Sat   260.40\n",
      "Sun   247.39\n",
      "Thur  171.83\n"
     ]
    }
   ],
   "source": [
    "print(tip.groupby('day',as_index=True)[['tip']].sum())"
   ]
  },
  {
   "cell_type": "code",
   "execution_count": 19,
   "id": "278d1cdd",
   "metadata": {},
   "outputs": [
    {
     "name": "stdout",
     "output_type": "stream",
     "text": [
      "    day     tip\n",
      "0   Fri   51.96\n",
      "1   Sat  260.40\n",
      "2   Sun  247.39\n",
      "3  Thur  171.83\n"
     ]
    }
   ],
   "source": [
    "print(tip.groupby('day',as_index=False)['tip'].sum())"
   ]
  },
  {
   "cell_type": "code",
   "execution_count": 23,
   "id": "46c04f3b",
   "metadata": {},
   "outputs": [
    {
     "name": "stdout",
     "output_type": "stream",
     "text": [
      "    day  total_bill     tip\n",
      "0   Fri      325.88   51.96\n",
      "1   Sat     1778.40  260.40\n",
      "2   Sun     1627.16  247.39\n",
      "3  Thur     1096.33  171.83\n"
     ]
    }
   ],
   "source": [
    "#day 별 total_bill,tip 합계 조회\n",
    "\n",
    "tip_sum = tip.groupby(by='day', as_index = False)[['total_bill','tip']].sum()\n",
    "\n",
    "print(tip_sum)"
   ]
  }
 ],
 "metadata": {
  "kernelspec": {
   "display_name": "Python 3",
   "language": "python",
   "name": "python3"
  },
  "language_info": {
   "codemirror_mode": {
    "name": "ipython",
    "version": 3
   },
   "file_extension": ".py",
   "mimetype": "text/x-python",
   "name": "python",
   "nbconvert_exporter": "python",
   "pygments_lexer": "ipython3",
   "version": "3.8.8"
  }
 },
 "nbformat": 4,
 "nbformat_minor": 5
}
